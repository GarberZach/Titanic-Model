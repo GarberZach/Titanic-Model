{
  "nbformat": 4,
  "nbformat_minor": 0,
  "metadata": {
    "colab": {
      "name": "titanic_data.ipynb",
      "provenance": []
    },
    "kernelspec": {
      "name": "python3",
      "display_name": "Python 3"
    }
  },
  "cells": [
    {
      "cell_type": "code",
      "metadata": {
        "id": "lhB00ec1Rlui",
        "colab_type": "code",
        "colab": {}
      },
      "source": [
        "import os\n",
        "import matplotlib.pyplot as plt\n",
        "import pandas as pd \n",
        "import sklearn\n",
        "import numpy as np\n"
      ],
      "execution_count": null,
      "outputs": []
    },
    {
      "cell_type": "code",
      "metadata": {
        "id": "kECwXmy4SEyM",
        "colab_type": "code",
        "colab": {}
      },
      "source": [
        "# from google.colab import files\n",
        "# uploaded = files.upload()"
      ],
      "execution_count": null,
      "outputs": []
    },
    {
      "cell_type": "code",
      "metadata": {
        "id": "IM1QTUnFery8",
        "colab_type": "code",
        "colab": {}
      },
      "source": [
        "# fare_data = fare_data.reshape(-1, 1)\n",
        "# fare_data = scaler.fit_transform(fare_data)\n",
        "# np.save('npy',fare_data)\n",
        "# age_data = df[\"Age\"]\n",
        "# import numpy as np\n",
        "# age_data = age_data.to_numpy()\n",
        "# age_data = age_data.reshape(-1, 1)\n",
        "# age_data = scaler.fit_transform(age_data)\n",
        "# np.save('age_data', age_data)"
      ],
      "execution_count": null,
      "outputs": []
    },
    {
      "cell_type": "code",
      "metadata": {
        "id": "v709iiuDvesK",
        "colab_type": "code",
        "colab": {}
      },
      "source": [
        "X_test = np.load('tX_test.npy')\n",
        "X_train = np.load('tX_train.npy')\n",
        "y_test = np.load('ty_test.npy')\n",
        "y_train = np.load('ty_train.npy')"
      ],
      "execution_count": null,
      "outputs": []
    },
    {
      "cell_type": "code",
      "metadata": {
        "id": "6nurmV0NxAa8",
        "colab_type": "code",
        "colab": {}
      },
      "source": [
        "from sklearn.linear_model import SGDClassifier\n",
        "sgd_classifier = SGDClassifier(max_iter=1000, tol=1e-3, random_state=42)"
      ],
      "execution_count": null,
      "outputs": []
    },
    {
      "cell_type": "code",
      "metadata": {
        "id": "GSNnynJTxKaV",
        "colab_type": "code",
        "colab": {
          "base_uri": "https://localhost:8080/",
          "height": 118
        },
        "outputId": "2f549c4f-2783-4a36-beb1-eadf99731748"
      },
      "source": [
        "sgd_classifier.fit(X_train, y_train)"
      ],
      "execution_count": null,
      "outputs": [
        {
          "output_type": "execute_result",
          "data": {
            "text/plain": [
              "SGDClassifier(alpha=0.0001, average=False, class_weight=None,\n",
              "              early_stopping=False, epsilon=0.1, eta0=0.0, fit_intercept=True,\n",
              "              l1_ratio=0.15, learning_rate='optimal', loss='hinge',\n",
              "              max_iter=1000, n_iter_no_change=5, n_jobs=None, penalty='l2',\n",
              "              power_t=0.5, random_state=42, shuffle=True, tol=0.001,\n",
              "              validation_fraction=0.1, verbose=0, warm_start=False)"
            ]
          },
          "metadata": {
            "tags": []
          },
          "execution_count": 49
        }
      ]
    },
    {
      "cell_type": "code",
      "metadata": {
        "id": "zhablaT9xUoq",
        "colab_type": "code",
        "colab": {
          "base_uri": "https://localhost:8080/",
          "height": 34
        },
        "outputId": "bb215ee8-7621-43ca-f6ba-b801552246f4"
      },
      "source": [
        "from sklearn.model_selection import cross_val_score\n",
        "cross_val_score(sgd_classifier, X_train, y_train, cv=3, scoring=\"accuracy\")\n"
      ],
      "execution_count": null,
      "outputs": [
        {
          "output_type": "execute_result",
          "data": {
            "text/plain": [
              "array([0.76371308, 0.80168776, 0.75      ])"
            ]
          },
          "metadata": {
            "tags": []
          },
          "execution_count": 50
        }
      ]
    },
    {
      "cell_type": "code",
      "metadata": {
        "id": "Tb29oNnax9sT",
        "colab_type": "code",
        "colab": {}
      },
      "source": [
        "predicted = sgd_classifier.predict(X_test)"
      ],
      "execution_count": null,
      "outputs": []
    },
    {
      "cell_type": "code",
      "metadata": {
        "id": "q0gF0Zjc1XXL",
        "colab_type": "code",
        "colab": {
          "base_uri": "https://localhost:8080/",
          "height": 34
        },
        "outputId": "b34e6d00-db3a-4e96-b50d-bcb880ef36a5"
      },
      "source": [
        "predicted.ndim"
      ],
      "execution_count": null,
      "outputs": [
        {
          "output_type": "execute_result",
          "data": {
            "text/plain": [
              "1"
            ]
          },
          "metadata": {
            "tags": []
          },
          "execution_count": 52
        }
      ]
    },
    {
      "cell_type": "code",
      "metadata": {
        "id": "ZHyyEgap0Joe",
        "colab_type": "code",
        "colab": {}
      },
      "source": [
        "correct = 0\n",
        "incorrect = 0\n",
        "\n",
        "for i, j in zip(predicted, y_test):\n",
        "  if i == j:\n",
        "    correct += 1\n",
        "  else:\n",
        "    incorrect += 1"
      ],
      "execution_count": null,
      "outputs": []
    },
    {
      "cell_type": "code",
      "metadata": {
        "id": "0CJ04b_404s6",
        "colab_type": "code",
        "colab": {
          "base_uri": "https://localhost:8080/",
          "height": 34
        },
        "outputId": "2c070e95-53eb-41ec-8bc3-064156638aa8"
      },
      "source": [
        "print(\"Correct: \" + str(correct) + \" || Incorrect: \" + str(incorrect) + \" || Accuracy: \" + str(correct/ (correct + incorrect)))"
      ],
      "execution_count": null,
      "outputs": [
        {
          "output_type": "stream",
          "text": [
            "Correct: 147 || Incorrect: 30 || Accuracy: 0.8305084745762712\n"
          ],
          "name": "stdout"
        }
      ]
    }
  ]
}